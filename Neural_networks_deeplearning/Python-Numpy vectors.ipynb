{
 "cells": [
  {
   "cell_type": "markdown",
   "metadata": {},
   "source": []
  },
  {
   "cell_type": "code",
   "execution_count": 3,
   "metadata": {},
   "outputs": [],
   "source": [
    "import numpy as np\n",
    "\n",
    "a = np.random.randn(5)"
   ]
  },
  {
   "cell_type": "code",
   "execution_count": 6,
   "metadata": {},
   "outputs": [
    {
     "name": "stdout",
     "output_type": "stream",
     "text": [
      "[ 1.46831107 -0.04526713  1.5372774  -0.14687877  0.06825003]\n",
      "(5,)\n",
      "[ 1.46831107 -0.04526713  1.5372774  -0.14687877  0.06825003]\n",
      "4.547439752052777\n"
     ]
    }
   ],
   "source": [
    "print(a)\n",
    "print(a.shape)\n",
    "print(a.T)\n",
    "print(np.dot(a,a.T))"
   ]
  },
  {
   "cell_type": "code",
   "execution_count": 8,
   "metadata": {},
   "outputs": [],
   "source": [
    "## (5) 로 설정하면 전치가 안되니, (5,1)과 같이 쓰는게 좋다.\n",
    "## rank 1 배열 사용을 지양하자.\n",
    "a = np.random.randn(5,1)\n"
   ]
  },
  {
   "cell_type": "code",
   "execution_count": 9,
   "metadata": {},
   "outputs": [
    {
     "name": "stdout",
     "output_type": "stream",
     "text": [
      "[[-0.95577204]\n",
      " [ 0.6897166 ]\n",
      " [ 0.077668  ]\n",
      " [-0.21307174]\n",
      " [ 1.69372117]]\n",
      "(5, 1)\n",
      "[[-0.95577204  0.6897166   0.077668   -0.21307174  1.69372117]]\n",
      "[[ 0.91350019 -0.65921184 -0.07423291  0.20364802 -1.61881134]\n",
      " [-0.65921184  0.47570899  0.05356891 -0.14695912  1.16818761]\n",
      " [-0.07423291  0.05356891  0.00603232 -0.01654886  0.13154794]\n",
      " [ 0.20364802 -0.14695912 -0.01654886  0.04539957 -0.36088412]\n",
      " [-1.61881134  1.16818761  0.13154794 -0.36088412  2.86869141]]\n"
     ]
    }
   ],
   "source": [
    "print(a)\n",
    "print(a.shape)\n",
    "print(a.T)\n",
    "print(np.dot(a,a.T))"
   ]
  },
  {
   "cell_type": "code",
   "execution_count": null,
   "metadata": {},
   "outputs": [],
   "source": []
  }
 ],
 "metadata": {
  "kernelspec": {
   "display_name": "Python 3",
   "language": "python",
   "name": "python3"
  },
  "language_info": {
   "codemirror_mode": {
    "name": "ipython",
    "version": 3
   },
   "file_extension": ".py",
   "mimetype": "text/x-python",
   "name": "python",
   "nbconvert_exporter": "python",
   "pygments_lexer": "ipython3",
   "version": "3.12.4"
  }
 },
 "nbformat": 4,
 "nbformat_minor": 2
}
